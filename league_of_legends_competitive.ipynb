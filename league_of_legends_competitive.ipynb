{
 "cells": [
  {
   "cell_type": "code",
   "execution_count": 1,
   "metadata": {
    "collapsed": true
   },
   "outputs": [],
   "source": [
    "# this is a test of classification algorithms with scikit\n",
    "#  the basic application is to predict whether or not a team will win based on the ADC character matchup, and year\n",
    "LEAGUE_PATH = \"datasets/lol/LeagueofLegends.csv\"\n",
    "\n",
    "import pandas as pd\n",
    "\n",
    "def load_lol_data(file_path=LEAGUE_PATH):\n",
    "    return pd.read_csv(file_path)"
   ]
  },
  {
   "cell_type": "code",
   "execution_count": 4,
   "metadata": {},
   "outputs": [
    {
     "data": {
      "text/html": [
       "<div>\n",
       "<table border=\"1\" class=\"dataframe\">\n",
       "  <thead>\n",
       "    <tr style=\"text-align: right;\">\n",
       "      <th></th>\n",
       "      <th>MatchHistory</th>\n",
       "      <th>League</th>\n",
       "      <th>Season</th>\n",
       "      <th>Year</th>\n",
       "      <th>blueTeamTag</th>\n",
       "      <th>bResult</th>\n",
       "      <th>rResult</th>\n",
       "      <th>redTeamTag</th>\n",
       "      <th>gamelength</th>\n",
       "      <th>blueTop</th>\n",
       "      <th>...</th>\n",
       "      <th>redTop</th>\n",
       "      <th>redTopChamp</th>\n",
       "      <th>redJungle</th>\n",
       "      <th>redJungleChamp</th>\n",
       "      <th>redMiddle</th>\n",
       "      <th>redMiddleChamp</th>\n",
       "      <th>redADC</th>\n",
       "      <th>redADCChamp</th>\n",
       "      <th>redSupportChamp</th>\n",
       "      <th>redSupport</th>\n",
       "    </tr>\n",
       "  </thead>\n",
       "  <tbody>\n",
       "    <tr>\n",
       "      <th>0</th>\n",
       "      <td>http://matchhistory.na.leagueoflegends.com/en/...</td>\n",
       "      <td>North_America</td>\n",
       "      <td>Spring_Season</td>\n",
       "      <td>2015</td>\n",
       "      <td>TSM</td>\n",
       "      <td>1</td>\n",
       "      <td>0</td>\n",
       "      <td>C9</td>\n",
       "      <td>40</td>\n",
       "      <td>Dyrus</td>\n",
       "      <td>...</td>\n",
       "      <td>Balls</td>\n",
       "      <td>Gnar</td>\n",
       "      <td>Meteos</td>\n",
       "      <td>Elise</td>\n",
       "      <td>Hai</td>\n",
       "      <td>Fizz</td>\n",
       "      <td>Sneaky</td>\n",
       "      <td>Sivir</td>\n",
       "      <td>Thresh</td>\n",
       "      <td>LemonNation</td>\n",
       "    </tr>\n",
       "    <tr>\n",
       "      <th>1</th>\n",
       "      <td>http://matchhistory.na.leagueoflegends.com/en/...</td>\n",
       "      <td>North_America</td>\n",
       "      <td>Spring_Season</td>\n",
       "      <td>2015</td>\n",
       "      <td>CST</td>\n",
       "      <td>0</td>\n",
       "      <td>1</td>\n",
       "      <td>DIG</td>\n",
       "      <td>38</td>\n",
       "      <td>Cris</td>\n",
       "      <td>...</td>\n",
       "      <td>Gamsu</td>\n",
       "      <td>Irelia</td>\n",
       "      <td>Crumbzz</td>\n",
       "      <td>JarvanIV</td>\n",
       "      <td>Shiphtur</td>\n",
       "      <td>Azir</td>\n",
       "      <td>CoreJJ</td>\n",
       "      <td>Corki</td>\n",
       "      <td>Annie</td>\n",
       "      <td>KiWiKiD</td>\n",
       "    </tr>\n",
       "    <tr>\n",
       "      <th>2</th>\n",
       "      <td>http://matchhistory.na.leagueoflegends.com/en/...</td>\n",
       "      <td>North_America</td>\n",
       "      <td>Spring_Season</td>\n",
       "      <td>2015</td>\n",
       "      <td>WFX</td>\n",
       "      <td>1</td>\n",
       "      <td>0</td>\n",
       "      <td>GV</td>\n",
       "      <td>40</td>\n",
       "      <td>Flaresz</td>\n",
       "      <td>...</td>\n",
       "      <td>Hauntzer</td>\n",
       "      <td>Sion</td>\n",
       "      <td>Saintvicious</td>\n",
       "      <td>LeeSin</td>\n",
       "      <td>Keane</td>\n",
       "      <td>Azir</td>\n",
       "      <td>Cop</td>\n",
       "      <td>Corki</td>\n",
       "      <td>Janna</td>\n",
       "      <td>BunnyFuFuu</td>\n",
       "    </tr>\n",
       "    <tr>\n",
       "      <th>3</th>\n",
       "      <td>http://matchhistory.na.leagueoflegends.com/en/...</td>\n",
       "      <td>North_America</td>\n",
       "      <td>Spring_Season</td>\n",
       "      <td>2015</td>\n",
       "      <td>TIP</td>\n",
       "      <td>0</td>\n",
       "      <td>1</td>\n",
       "      <td>TL</td>\n",
       "      <td>41</td>\n",
       "      <td>Rhux</td>\n",
       "      <td>...</td>\n",
       "      <td>Quas</td>\n",
       "      <td>Gnar</td>\n",
       "      <td>IWDominate</td>\n",
       "      <td>Nunu</td>\n",
       "      <td>Fenix</td>\n",
       "      <td>Lulu</td>\n",
       "      <td>KEITH</td>\n",
       "      <td>KogMaw</td>\n",
       "      <td>Janna</td>\n",
       "      <td>Xpecial</td>\n",
       "    </tr>\n",
       "    <tr>\n",
       "      <th>4</th>\n",
       "      <td>http://matchhistory.na.leagueoflegends.com/en/...</td>\n",
       "      <td>North_America</td>\n",
       "      <td>Spring_Season</td>\n",
       "      <td>2015</td>\n",
       "      <td>CLG</td>\n",
       "      <td>1</td>\n",
       "      <td>0</td>\n",
       "      <td>T8</td>\n",
       "      <td>35</td>\n",
       "      <td>Benny</td>\n",
       "      <td>...</td>\n",
       "      <td>CaliTrlolz8</td>\n",
       "      <td>Sion</td>\n",
       "      <td>Porpoise8</td>\n",
       "      <td>RekSai</td>\n",
       "      <td>Slooshi8</td>\n",
       "      <td>Lulu</td>\n",
       "      <td>Maplestreet8</td>\n",
       "      <td>Corki</td>\n",
       "      <td>Annie</td>\n",
       "      <td>Dodo8</td>\n",
       "    </tr>\n",
       "  </tbody>\n",
       "</table>\n",
       "<p>5 rows × 29 columns</p>\n",
       "</div>"
      ],
      "text/plain": [
       "                                        MatchHistory         League  \\\n",
       "0  http://matchhistory.na.leagueoflegends.com/en/...  North_America   \n",
       "1  http://matchhistory.na.leagueoflegends.com/en/...  North_America   \n",
       "2  http://matchhistory.na.leagueoflegends.com/en/...  North_America   \n",
       "3  http://matchhistory.na.leagueoflegends.com/en/...  North_America   \n",
       "4  http://matchhistory.na.leagueoflegends.com/en/...  North_America   \n",
       "\n",
       "          Season  Year blueTeamTag  bResult  rResult redTeamTag  gamelength  \\\n",
       "0  Spring_Season  2015         TSM        1        0         C9          40   \n",
       "1  Spring_Season  2015         CST        0        1        DIG          38   \n",
       "2  Spring_Season  2015         WFX        1        0         GV          40   \n",
       "3  Spring_Season  2015         TIP        0        1         TL          41   \n",
       "4  Spring_Season  2015         CLG        1        0         T8          35   \n",
       "\n",
       "   blueTop     ...            redTop redTopChamp     redJungle redJungleChamp  \\\n",
       "0    Dyrus     ...             Balls        Gnar        Meteos          Elise   \n",
       "1     Cris     ...             Gamsu      Irelia       Crumbzz       JarvanIV   \n",
       "2  Flaresz     ...          Hauntzer        Sion  Saintvicious         LeeSin   \n",
       "3     Rhux     ...              Quas        Gnar    IWDominate           Nunu   \n",
       "4    Benny     ...       CaliTrlolz8        Sion     Porpoise8         RekSai   \n",
       "\n",
       "  redMiddle redMiddleChamp        redADC redADCChamp redSupportChamp  \\\n",
       "0       Hai           Fizz        Sneaky       Sivir          Thresh   \n",
       "1  Shiphtur           Azir        CoreJJ       Corki           Annie   \n",
       "2     Keane           Azir           Cop       Corki           Janna   \n",
       "3     Fenix           Lulu         KEITH      KogMaw           Janna   \n",
       "4  Slooshi8           Lulu  Maplestreet8       Corki           Annie   \n",
       "\n",
       "    redSupport  \n",
       "0  LemonNation  \n",
       "1      KiWiKiD  \n",
       "2   BunnyFuFuu  \n",
       "3      Xpecial  \n",
       "4        Dodo8  \n",
       "\n",
       "[5 rows x 29 columns]"
      ]
     },
     "execution_count": 4,
     "metadata": {},
     "output_type": "execute_result"
    }
   ],
   "source": [
    "matches = load_lol_data()\n",
    "matches.head()"
   ]
  },
  {
   "cell_type": "code",
   "execution_count": 5,
   "metadata": {
    "collapsed": true
   },
   "outputs": [],
   "source": [
    "from typing import Any, List\n",
    "\n",
    "def process_line(line: List[Any]) -> List[Any]:\n",
    "    \"\"\"\n",
    "    processes a single row in the above and table and turns it into the lists\n",
    "    to add to the new processed data set\n",
    "    \n",
    "    format to return:\n",
    "    [\"Year\", \"Win\", \"perADCChamp\", \"oppADCChamp\"]\n",
    "    \"\"\"\n",
    "    \n",
    "    red_row = [line[6], line[3], line[26], line[16]]\n",
    "    blue_row = [line[5], line[3], line[16], line[26]]\n",
    "    \n",
    "    return [red_row, blue_row]\n",
    "    \n",
    "    "
   ]
  },
  {
   "cell_type": "code",
   "execution_count": 9,
   "metadata": {},
   "outputs": [
    {
     "name": "stdout",
     "output_type": "stream",
     "text": [
      "Length of unprocessed games: 3645\n",
      "Length of processed games: 7290\n"
     ]
    }
   ],
   "source": [
    "# loop through dataframes object to get thing we want\n",
    "\n",
    "processed_games = []\n",
    "max_len = 0\n",
    "for idx, row in matches.iterrows():\n",
    "    result = process_line(row)\n",
    "    processed_games.extend(result)\n",
    "    if idx > max_len:\n",
    "        max_len = idx\n",
    "\n",
    "max_len += 1 # because its 0-index\n",
    "\n",
    "print(\"Length of unprocessed games: %d\" % max_len)\n",
    "print(\"Length of processed games: %d\" % len(processed_games))"
   ]
  },
  {
   "cell_type": "code",
   "execution_count": 11,
   "metadata": {},
   "outputs": [
    {
     "data": {
      "text/plain": [
       "[1, 2015, 'Jinx', 'Sivir']"
      ]
     },
     "execution_count": 11,
     "metadata": {},
     "output_type": "execute_result"
    }
   ],
   "source": [
    "processed_games[1]"
   ]
  },
  {
   "cell_type": "code",
   "execution_count": 19,
   "metadata": {},
   "outputs": [],
   "source": [
    "# turn it back into dataframes so we can do some analysis\n",
    "\n",
    "matches_panda = pd.DataFrame(processed_games, columns=['Win', 'Year', 'OwnADC', 'OppADC'])"
   ]
  },
  {
   "cell_type": "code",
   "execution_count": 20,
   "metadata": {},
   "outputs": [
    {
     "data": {
      "text/html": [
       "<div>\n",
       "<table border=\"1\" class=\"dataframe\">\n",
       "  <thead>\n",
       "    <tr style=\"text-align: right;\">\n",
       "      <th></th>\n",
       "      <th>Win</th>\n",
       "      <th>Year</th>\n",
       "      <th>OwnADC</th>\n",
       "      <th>OppADC</th>\n",
       "    </tr>\n",
       "  </thead>\n",
       "  <tbody>\n",
       "    <tr>\n",
       "      <th>0</th>\n",
       "      <td>0</td>\n",
       "      <td>2015</td>\n",
       "      <td>Sivir</td>\n",
       "      <td>Jinx</td>\n",
       "    </tr>\n",
       "    <tr>\n",
       "      <th>1</th>\n",
       "      <td>1</td>\n",
       "      <td>2015</td>\n",
       "      <td>Jinx</td>\n",
       "      <td>Sivir</td>\n",
       "    </tr>\n",
       "    <tr>\n",
       "      <th>2</th>\n",
       "      <td>1</td>\n",
       "      <td>2015</td>\n",
       "      <td>Corki</td>\n",
       "      <td>Caitlyn</td>\n",
       "    </tr>\n",
       "    <tr>\n",
       "      <th>3</th>\n",
       "      <td>0</td>\n",
       "      <td>2015</td>\n",
       "      <td>Caitlyn</td>\n",
       "      <td>Corki</td>\n",
       "    </tr>\n",
       "    <tr>\n",
       "      <th>4</th>\n",
       "      <td>0</td>\n",
       "      <td>2015</td>\n",
       "      <td>Corki</td>\n",
       "      <td>Sivir</td>\n",
       "    </tr>\n",
       "  </tbody>\n",
       "</table>\n",
       "</div>"
      ],
      "text/plain": [
       "   Win  Year   OwnADC   OppADC\n",
       "0    0  2015    Sivir     Jinx\n",
       "1    1  2015     Jinx    Sivir\n",
       "2    1  2015    Corki  Caitlyn\n",
       "3    0  2015  Caitlyn    Corki\n",
       "4    0  2015    Corki    Sivir"
      ]
     },
     "execution_count": 20,
     "metadata": {},
     "output_type": "execute_result"
    }
   ],
   "source": [
    "matches_panda.head()"
   ]
  },
  {
   "cell_type": "code",
   "execution_count": 21,
   "metadata": {},
   "outputs": [
    {
     "data": {
      "text/plain": [
       "Sivir          1171\n",
       "Lucian          940\n",
       "Ashe            761\n",
       "Jhin            726\n",
       "Ezreal          709\n",
       "Kalista         582\n",
       "Corki           567\n",
       "Caitlyn         373\n",
       "Varus           309\n",
       "Tristana        219\n",
       "KogMaw          216\n",
       "Jinx            175\n",
       "Graves          141\n",
       "Vayne           137\n",
       "Twitch           69\n",
       "Urgot            61\n",
       "Ziggs            39\n",
       "MissFortune      39\n",
       "Draven           30\n",
       "Kennen           12\n",
       "Mordekaiser       7\n",
       "Kindred           2\n",
       "Jayce             2\n",
       "Lulu              1\n",
       "Quinn             1\n",
       "Janna             1\n",
       "Name: OwnADC, dtype: int64"
      ]
     },
     "execution_count": 21,
     "metadata": {},
     "output_type": "execute_result"
    }
   ],
   "source": [
    "matches_panda[\"OwnADC\"].value_counts()"
   ]
  },
  {
   "cell_type": "code",
   "execution_count": null,
   "metadata": {
    "collapsed": true
   },
   "outputs": [],
   "source": []
  }
 ],
 "metadata": {
  "kernelspec": {
   "display_name": "Python 3",
   "language": "python",
   "name": "python3"
  },
  "language_info": {
   "codemirror_mode": {
    "name": "ipython",
    "version": 3
   },
   "file_extension": ".py",
   "mimetype": "text/x-python",
   "name": "python",
   "nbconvert_exporter": "python",
   "pygments_lexer": "ipython3",
   "version": "3.5.1"
  }
 },
 "nbformat": 4,
 "nbformat_minor": 2
}
