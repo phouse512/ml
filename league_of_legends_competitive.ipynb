{
 "cells": [
  {
   "cell_type": "code",
   "execution_count": 103,
   "metadata": {
    "collapsed": true
   },
   "outputs": [],
   "source": [
    "# this is a test of classification algorithms with scikit\n",
    "#  the basic application is to predict whether or not a team will win based on the ADC character matchup, and year\n",
    "LEAGUE_PATH = \"datasets/lol/LeagueofLegends.csv\"\n",
    "\n",
    "import pandas as pd\n",
    "\n",
    "def load_lol_data(file_path=LEAGUE_PATH):\n",
    "    return pd.read_csv(file_path)"
   ]
  },
  {
   "cell_type": "code",
   "execution_count": 104,
   "metadata": {},
   "outputs": [
    {
     "data": {
      "text/html": [
       "<div>\n",
       "<table border=\"1\" class=\"dataframe\">\n",
       "  <thead>\n",
       "    <tr style=\"text-align: right;\">\n",
       "      <th></th>\n",
       "      <th>MatchHistory</th>\n",
       "      <th>League</th>\n",
       "      <th>Season</th>\n",
       "      <th>Year</th>\n",
       "      <th>blueTeamTag</th>\n",
       "      <th>bResult</th>\n",
       "      <th>rResult</th>\n",
       "      <th>redTeamTag</th>\n",
       "      <th>gamelength</th>\n",
       "      <th>blueTop</th>\n",
       "      <th>...</th>\n",
       "      <th>redTop</th>\n",
       "      <th>redTopChamp</th>\n",
       "      <th>redJungle</th>\n",
       "      <th>redJungleChamp</th>\n",
       "      <th>redMiddle</th>\n",
       "      <th>redMiddleChamp</th>\n",
       "      <th>redADC</th>\n",
       "      <th>redADCChamp</th>\n",
       "      <th>redSupportChamp</th>\n",
       "      <th>redSupport</th>\n",
       "    </tr>\n",
       "  </thead>\n",
       "  <tbody>\n",
       "    <tr>\n",
       "      <th>0</th>\n",
       "      <td>http://matchhistory.na.leagueoflegends.com/en/...</td>\n",
       "      <td>North_America</td>\n",
       "      <td>Spring_Season</td>\n",
       "      <td>2015</td>\n",
       "      <td>TSM</td>\n",
       "      <td>1</td>\n",
       "      <td>0</td>\n",
       "      <td>C9</td>\n",
       "      <td>40</td>\n",
       "      <td>Dyrus</td>\n",
       "      <td>...</td>\n",
       "      <td>Balls</td>\n",
       "      <td>Gnar</td>\n",
       "      <td>Meteos</td>\n",
       "      <td>Elise</td>\n",
       "      <td>Hai</td>\n",
       "      <td>Fizz</td>\n",
       "      <td>Sneaky</td>\n",
       "      <td>Sivir</td>\n",
       "      <td>Thresh</td>\n",
       "      <td>LemonNation</td>\n",
       "    </tr>\n",
       "    <tr>\n",
       "      <th>1</th>\n",
       "      <td>http://matchhistory.na.leagueoflegends.com/en/...</td>\n",
       "      <td>North_America</td>\n",
       "      <td>Spring_Season</td>\n",
       "      <td>2015</td>\n",
       "      <td>CST</td>\n",
       "      <td>0</td>\n",
       "      <td>1</td>\n",
       "      <td>DIG</td>\n",
       "      <td>38</td>\n",
       "      <td>Cris</td>\n",
       "      <td>...</td>\n",
       "      <td>Gamsu</td>\n",
       "      <td>Irelia</td>\n",
       "      <td>Crumbzz</td>\n",
       "      <td>JarvanIV</td>\n",
       "      <td>Shiphtur</td>\n",
       "      <td>Azir</td>\n",
       "      <td>CoreJJ</td>\n",
       "      <td>Corki</td>\n",
       "      <td>Annie</td>\n",
       "      <td>KiWiKiD</td>\n",
       "    </tr>\n",
       "    <tr>\n",
       "      <th>2</th>\n",
       "      <td>http://matchhistory.na.leagueoflegends.com/en/...</td>\n",
       "      <td>North_America</td>\n",
       "      <td>Spring_Season</td>\n",
       "      <td>2015</td>\n",
       "      <td>WFX</td>\n",
       "      <td>1</td>\n",
       "      <td>0</td>\n",
       "      <td>GV</td>\n",
       "      <td>40</td>\n",
       "      <td>Flaresz</td>\n",
       "      <td>...</td>\n",
       "      <td>Hauntzer</td>\n",
       "      <td>Sion</td>\n",
       "      <td>Saintvicious</td>\n",
       "      <td>LeeSin</td>\n",
       "      <td>Keane</td>\n",
       "      <td>Azir</td>\n",
       "      <td>Cop</td>\n",
       "      <td>Corki</td>\n",
       "      <td>Janna</td>\n",
       "      <td>BunnyFuFuu</td>\n",
       "    </tr>\n",
       "    <tr>\n",
       "      <th>3</th>\n",
       "      <td>http://matchhistory.na.leagueoflegends.com/en/...</td>\n",
       "      <td>North_America</td>\n",
       "      <td>Spring_Season</td>\n",
       "      <td>2015</td>\n",
       "      <td>TIP</td>\n",
       "      <td>0</td>\n",
       "      <td>1</td>\n",
       "      <td>TL</td>\n",
       "      <td>41</td>\n",
       "      <td>Rhux</td>\n",
       "      <td>...</td>\n",
       "      <td>Quas</td>\n",
       "      <td>Gnar</td>\n",
       "      <td>IWDominate</td>\n",
       "      <td>Nunu</td>\n",
       "      <td>Fenix</td>\n",
       "      <td>Lulu</td>\n",
       "      <td>KEITH</td>\n",
       "      <td>KogMaw</td>\n",
       "      <td>Janna</td>\n",
       "      <td>Xpecial</td>\n",
       "    </tr>\n",
       "    <tr>\n",
       "      <th>4</th>\n",
       "      <td>http://matchhistory.na.leagueoflegends.com/en/...</td>\n",
       "      <td>North_America</td>\n",
       "      <td>Spring_Season</td>\n",
       "      <td>2015</td>\n",
       "      <td>CLG</td>\n",
       "      <td>1</td>\n",
       "      <td>0</td>\n",
       "      <td>T8</td>\n",
       "      <td>35</td>\n",
       "      <td>Benny</td>\n",
       "      <td>...</td>\n",
       "      <td>CaliTrlolz8</td>\n",
       "      <td>Sion</td>\n",
       "      <td>Porpoise8</td>\n",
       "      <td>RekSai</td>\n",
       "      <td>Slooshi8</td>\n",
       "      <td>Lulu</td>\n",
       "      <td>Maplestreet8</td>\n",
       "      <td>Corki</td>\n",
       "      <td>Annie</td>\n",
       "      <td>Dodo8</td>\n",
       "    </tr>\n",
       "  </tbody>\n",
       "</table>\n",
       "<p>5 rows × 29 columns</p>\n",
       "</div>"
      ],
      "text/plain": [
       "                                        MatchHistory         League  \\\n",
       "0  http://matchhistory.na.leagueoflegends.com/en/...  North_America   \n",
       "1  http://matchhistory.na.leagueoflegends.com/en/...  North_America   \n",
       "2  http://matchhistory.na.leagueoflegends.com/en/...  North_America   \n",
       "3  http://matchhistory.na.leagueoflegends.com/en/...  North_America   \n",
       "4  http://matchhistory.na.leagueoflegends.com/en/...  North_America   \n",
       "\n",
       "          Season  Year blueTeamTag  bResult  rResult redTeamTag  gamelength  \\\n",
       "0  Spring_Season  2015         TSM        1        0         C9          40   \n",
       "1  Spring_Season  2015         CST        0        1        DIG          38   \n",
       "2  Spring_Season  2015         WFX        1        0         GV          40   \n",
       "3  Spring_Season  2015         TIP        0        1         TL          41   \n",
       "4  Spring_Season  2015         CLG        1        0         T8          35   \n",
       "\n",
       "   blueTop     ...            redTop redTopChamp     redJungle redJungleChamp  \\\n",
       "0    Dyrus     ...             Balls        Gnar        Meteos          Elise   \n",
       "1     Cris     ...             Gamsu      Irelia       Crumbzz       JarvanIV   \n",
       "2  Flaresz     ...          Hauntzer        Sion  Saintvicious         LeeSin   \n",
       "3     Rhux     ...              Quas        Gnar    IWDominate           Nunu   \n",
       "4    Benny     ...       CaliTrlolz8        Sion     Porpoise8         RekSai   \n",
       "\n",
       "  redMiddle redMiddleChamp        redADC redADCChamp redSupportChamp  \\\n",
       "0       Hai           Fizz        Sneaky       Sivir          Thresh   \n",
       "1  Shiphtur           Azir        CoreJJ       Corki           Annie   \n",
       "2     Keane           Azir           Cop       Corki           Janna   \n",
       "3     Fenix           Lulu         KEITH      KogMaw           Janna   \n",
       "4  Slooshi8           Lulu  Maplestreet8       Corki           Annie   \n",
       "\n",
       "    redSupport  \n",
       "0  LemonNation  \n",
       "1      KiWiKiD  \n",
       "2   BunnyFuFuu  \n",
       "3      Xpecial  \n",
       "4        Dodo8  \n",
       "\n",
       "[5 rows x 29 columns]"
      ]
     },
     "execution_count": 104,
     "metadata": {},
     "output_type": "execute_result"
    }
   ],
   "source": [
    "matches = load_lol_data()\n",
    "matches.head()"
   ]
  },
  {
   "cell_type": "code",
   "execution_count": 105,
   "metadata": {
    "collapsed": true
   },
   "outputs": [],
   "source": [
    "from typing import Any, List\n",
    "\n",
    "def process_line(line: List[Any]) -> List[Any]:\n",
    "    \"\"\"\n",
    "    processes a single row in the above and table and turns it into the lists\n",
    "    to add to the new processed data set\n",
    "    \n",
    "    format to return:\n",
    "    [\"Year\", \"Win\", \"perADCChamp\", \"oppADCChamp\"]\n",
    "    \"\"\"\n",
    "    \n",
    "    red_row = [line[6], line[3], line[26], line[16]]\n",
    "    blue_row = [line[5], line[3], line[16], line[26]]\n",
    "    \n",
    "    return [red_row]\n",
    "    \n",
    "    "
   ]
  },
  {
   "cell_type": "code",
   "execution_count": 106,
   "metadata": {},
   "outputs": [
    {
     "name": "stdout",
     "output_type": "stream",
     "text": [
      "Length of unprocessed games: 3645\n",
      "Length of processed games: 3645\n"
     ]
    }
   ],
   "source": [
    "# loop through dataframes object to get thing we want\n",
    "\n",
    "processed_games = []\n",
    "max_len = 0\n",
    "for idx, row in matches.iterrows():\n",
    "    result = process_line(row)\n",
    "    processed_games.extend(result)\n",
    "    if idx > max_len:\n",
    "        max_len = idx\n",
    "\n",
    "max_len += 1 # because its 0-index\n",
    "\n",
    "print(\"Length of unprocessed games: %d\" % max_len)\n",
    "print(\"Length of processed games: %d\" % len(processed_games))"
   ]
  },
  {
   "cell_type": "code",
   "execution_count": 107,
   "metadata": {},
   "outputs": [
    {
     "data": {
      "text/plain": [
       "[1, 2015, 'Corki', 'Caitlyn']"
      ]
     },
     "execution_count": 107,
     "metadata": {},
     "output_type": "execute_result"
    }
   ],
   "source": [
    "processed_games[1]"
   ]
  },
  {
   "cell_type": "code",
   "execution_count": 108,
   "metadata": {
    "collapsed": true
   },
   "outputs": [],
   "source": [
    "# turn it back into dataframes so we can do some analysis\n",
    "\n",
    "matches_panda = pd.DataFrame(processed_games, columns=['Win', 'Year', 'OwnADC', 'OppADC'])"
   ]
  },
  {
   "cell_type": "code",
   "execution_count": 109,
   "metadata": {},
   "outputs": [
    {
     "data": {
      "text/html": [
       "<div>\n",
       "<table border=\"1\" class=\"dataframe\">\n",
       "  <thead>\n",
       "    <tr style=\"text-align: right;\">\n",
       "      <th></th>\n",
       "      <th>Win</th>\n",
       "      <th>Year</th>\n",
       "      <th>OwnADC</th>\n",
       "      <th>OppADC</th>\n",
       "    </tr>\n",
       "  </thead>\n",
       "  <tbody>\n",
       "    <tr>\n",
       "      <th>0</th>\n",
       "      <td>0</td>\n",
       "      <td>2015</td>\n",
       "      <td>Sivir</td>\n",
       "      <td>Jinx</td>\n",
       "    </tr>\n",
       "    <tr>\n",
       "      <th>1</th>\n",
       "      <td>1</td>\n",
       "      <td>2015</td>\n",
       "      <td>Corki</td>\n",
       "      <td>Caitlyn</td>\n",
       "    </tr>\n",
       "    <tr>\n",
       "      <th>2</th>\n",
       "      <td>0</td>\n",
       "      <td>2015</td>\n",
       "      <td>Corki</td>\n",
       "      <td>Sivir</td>\n",
       "    </tr>\n",
       "    <tr>\n",
       "      <th>3</th>\n",
       "      <td>1</td>\n",
       "      <td>2015</td>\n",
       "      <td>KogMaw</td>\n",
       "      <td>Sivir</td>\n",
       "    </tr>\n",
       "    <tr>\n",
       "      <th>4</th>\n",
       "      <td>0</td>\n",
       "      <td>2015</td>\n",
       "      <td>Corki</td>\n",
       "      <td>Tristana</td>\n",
       "    </tr>\n",
       "  </tbody>\n",
       "</table>\n",
       "</div>"
      ],
      "text/plain": [
       "   Win  Year  OwnADC    OppADC\n",
       "0    0  2015   Sivir      Jinx\n",
       "1    1  2015   Corki   Caitlyn\n",
       "2    0  2015   Corki     Sivir\n",
       "3    1  2015  KogMaw     Sivir\n",
       "4    0  2015   Corki  Tristana"
      ]
     },
     "execution_count": 109,
     "metadata": {},
     "output_type": "execute_result"
    }
   ],
   "source": [
    "matches_panda.head()"
   ]
  },
  {
   "cell_type": "code",
   "execution_count": 110,
   "metadata": {},
   "outputs": [
    {
     "data": {
      "text/plain": [
       "Sivir          615\n",
       "Lucian         472\n",
       "Ashe           395\n",
       "Ezreal         366\n",
       "Jhin           362\n",
       "Corki          298\n",
       "Kalista        257\n",
       "Caitlyn        185\n",
       "Varus          150\n",
       "Tristana       105\n",
       "KogMaw         101\n",
       "Jinx            95\n",
       "Vayne           65\n",
       "Graves          60\n",
       "Twitch          38\n",
       "Urgot           32\n",
       "Draven          15\n",
       "Ziggs           13\n",
       "MissFortune     10\n",
       "Kennen           4\n",
       "Kindred          2\n",
       "Jayce            2\n",
       "Lulu             1\n",
       "Quinn            1\n",
       "Janna            1\n",
       "Name: OwnADC, dtype: int64"
      ]
     },
     "execution_count": 110,
     "metadata": {},
     "output_type": "execute_result"
    }
   ],
   "source": [
    "matches_panda[\"OwnADC\"].value_counts()"
   ]
  },
  {
   "cell_type": "code",
   "execution_count": 111,
   "metadata": {},
   "outputs": [
    {
     "data": {
      "text/plain": [
       "Sivir          556\n",
       "Lucian         468\n",
       "Ashe           366\n",
       "Jhin           364\n",
       "Ezreal         343\n",
       "Kalista        325\n",
       "Corki          269\n",
       "Caitlyn        188\n",
       "Varus          159\n",
       "KogMaw         115\n",
       "Tristana       114\n",
       "Graves          81\n",
       "Jinx            80\n",
       "Vayne           72\n",
       "Twitch          31\n",
       "Urgot           29\n",
       "MissFortune     29\n",
       "Ziggs           26\n",
       "Draven          15\n",
       "Kennen           8\n",
       "Mordekaiser      7\n",
       "Name: OppADC, dtype: int64"
      ]
     },
     "execution_count": 111,
     "metadata": {},
     "output_type": "execute_result"
    }
   ],
   "source": [
    "matches_panda[\"OppADC\"].value_counts()"
   ]
  },
  {
   "cell_type": "code",
   "execution_count": 112,
   "metadata": {},
   "outputs": [],
   "source": [
    "# time to set up data pipeline to get this show on the road\n",
    "from sklearn.preprocessing import LabelBinarizer\n",
    "from sklearn.pipeline import FeatureUnion\n",
    "from sklearn.pipeline import Pipeline\n",
    "from sklearn.base import BaseEstimator, TransformerMixin\n",
    "\n",
    "class DataFrameSelector(BaseEstimator, TransformerMixin):\n",
    "    def __init__(self, attribute_names):\n",
    "        self.attribute_names = attribute_names\n",
    "    def fit(self, X, y=None):\n",
    "        return self\n",
    "    def transform(self, X):\n",
    "        return X[self.attribute_names].values\n",
    "\n",
    "ready_attrs = [\"Win\", \"Year\"]\n",
    "own_adc_carry = [\"OwnADC\"]\n",
    "opp_adc_carry = [\"OppADC\"]    \n",
    "\n",
    "norm_pipeline = Pipeline([\n",
    "    ('selector', DataFrameSelector(ready_attrs)),\n",
    "])\n",
    "\n",
    "own_adc_carry_pipe = Pipeline([\n",
    "    ('selector', DataFrameSelector(own_adc_carry)),\n",
    "    ('label_binarizer', LabelBinarizer()),\n",
    "])\n",
    "\n",
    "opp_adc_carry_pipe = Pipeline([\n",
    "    ('selector', DataFrameSelector(opp_adc_carry)),\n",
    "    ('label_binarizer', LabelBinarizer()),\n",
    "])\n",
    "\n",
    "full_pipeline = FeatureUnion(transformer_list=[\n",
    "    ('norm_pipeline', norm_pipeline),\n",
    "    ('own_adc_pipeline', own_adc_carry_pipe),\n",
    "    ('opp_adc_pipeline', opp_adc_carry_pipe),\n",
    "])"
   ]
  },
  {
   "cell_type": "code",
   "execution_count": 113,
   "metadata": {},
   "outputs": [],
   "source": [
    "ready_data = full_pipeline.fit_transform(matches_panda)"
   ]
  },
  {
   "cell_type": "code",
   "execution_count": 114,
   "metadata": {},
   "outputs": [
    {
     "data": {
      "text/plain": [
       "(3645, 48)"
      ]
     },
     "execution_count": 114,
     "metadata": {},
     "output_type": "execute_result"
    }
   ],
   "source": [
    "ready_data.shape"
   ]
  },
  {
   "cell_type": "code",
   "execution_count": 115,
   "metadata": {
    "collapsed": true
   },
   "outputs": [],
   "source": [
    "# grabs ONLY the first column (which is label)\n",
    "match_labels = ready_data[:,0].copy()"
   ]
  },
  {
   "cell_type": "code",
   "execution_count": 116,
   "metadata": {},
   "outputs": [],
   "source": [
    "# grabs all data EXCEPT for first column (which is label)\n",
    "match_data = ready_data[:,1:].copy()"
   ]
  },
  {
   "cell_type": "code",
   "execution_count": 117,
   "metadata": {},
   "outputs": [],
   "source": [
    "# time to shuffle the data up\n",
    "import numpy as np\n",
    "\n",
    "shuffle_index = np.random.permutation(3645)\n",
    "shuffled_X_train, shuffled_y_train = match_data[shuffle_index], match_labels[shuffle_index]"
   ]
  },
  {
   "cell_type": "code",
   "execution_count": 118,
   "metadata": {},
   "outputs": [
    {
     "data": {
      "text/plain": [
       "SGDClassifier(alpha=0.0001, average=False, class_weight=None, epsilon=0.1,\n",
       "       eta0=0.0, fit_intercept=True, l1_ratio=0.15,\n",
       "       learning_rate='optimal', loss='hinge', n_iter=5, n_jobs=1,\n",
       "       penalty='l2', power_t=0.5, random_state=42, shuffle=True, verbose=0,\n",
       "       warm_start=False)"
      ]
     },
     "execution_count": 118,
     "metadata": {},
     "output_type": "execute_result"
    }
   ],
   "source": [
    "# time to fit a basic model!!\n",
    "\n",
    "from sklearn.linear_model import SGDClassifier\n",
    "\n",
    "sgd_clf = SGDClassifier(random_state=42)\n",
    "sgd_clf.fit(shuffled_X_train, shuffled_y_train)"
   ]
  },
  {
   "cell_type": "code",
   "execution_count": 119,
   "metadata": {},
   "outputs": [
    {
     "name": "stderr",
     "output_type": "stream",
     "text": [
      "/Users/PhilipHouse/ml/envs/lib/python3.5/site-packages/sklearn/utils/validation.py:395: DeprecationWarning: Passing 1d arrays as data is deprecated in 0.17 and will raise ValueError in 0.19. Reshape your data either using X.reshape(-1, 1) if your data has a single feature or X.reshape(1, -1) if it contains a single sample.\n",
      "  DeprecationWarning)\n"
     ]
    },
    {
     "data": {
      "text/plain": [
       "array([1])"
      ]
     },
     "execution_count": 119,
     "metadata": {},
     "output_type": "execute_result"
    }
   ],
   "source": [
    "sgd_clf.predict(shuffled_X_train[21])"
   ]
  },
  {
   "cell_type": "code",
   "execution_count": 120,
   "metadata": {},
   "outputs": [
    {
     "data": {
      "text/plain": [
       "array([ 0.45476974,  0.45514403,  0.54530478])"
      ]
     },
     "execution_count": 120,
     "metadata": {},
     "output_type": "execute_result"
    }
   ],
   "source": [
    "# let's do some cross validation\n",
    "from sklearn.model_selection import cross_val_score\n",
    "\n",
    "cross_val_score(sgd_clf, shuffled_X_train, shuffled_y_train, cv=3, scoring=\"accuracy\")"
   ]
  },
  {
   "cell_type": "code",
   "execution_count": 121,
   "metadata": {},
   "outputs": [
    {
     "data": {
      "text/plain": [
       "GridSearchCV(cv=5, error_score='raise',\n",
       "       estimator=SGDClassifier(alpha=0.0001, average=False, class_weight=None, epsilon=0.1,\n",
       "       eta0=0.0, fit_intercept=True, l1_ratio=0.15,\n",
       "       learning_rate='optimal', loss='hinge', n_iter=5, n_jobs=1,\n",
       "       penalty='l2', power_t=0.5, random_state=None, shuffle=True,\n",
       "       verbose=0, warm_start=False),\n",
       "       fit_params={}, iid=True, n_jobs=1,\n",
       "       param_grid={'alpha': [0.001, 0.0001, 1e-05, 1e-06], 'penalty': ['l1', 'l2', 'elasticnet'], 'loss': ('log', 'hinge')},\n",
       "       pre_dispatch='2*n_jobs', refit=True, return_train_score=True,\n",
       "       scoring='accuracy', verbose=0)"
      ]
     },
     "execution_count": 121,
     "metadata": {},
     "output_type": "execute_result"
    }
   ],
   "source": [
    "# well that was gad, let's mess with grid search\n",
    "from sklearn.model_selection import GridSearchCV\n",
    "\n",
    "parameters = {\n",
    "    'loss': ('log', 'hinge'),\n",
    "    'penalty': ['l1', 'l2', 'elasticnet'],\n",
    "    'alpha': [0.001, 0.0001, 0.00001, 0.000001]\n",
    "}\n",
    "\n",
    "classifier = SGDClassifier()\n",
    "\n",
    "grid_search = GridSearchCV(classifier, parameters, cv=5, scoring='accuracy')\n",
    "grid_search.fit(shuffled_X_train, shuffled_y_train)"
   ]
  },
  {
   "cell_type": "code",
   "execution_count": 122,
   "metadata": {
    "scrolled": false
   },
   "outputs": [
    {
     "name": "stdout",
     "output_type": "stream",
     "text": [
      "0.472976680384 {'loss': 'log', 'penalty': 'l1', 'alpha': 0.001}\n",
      "0.527023319616 {'loss': 'log', 'penalty': 'l2', 'alpha': 0.001}\n",
      "0.490809327846 {'loss': 'log', 'penalty': 'elasticnet', 'alpha': 0.001}\n",
      "0.542661179698 {'loss': 'hinge', 'penalty': 'l1', 'alpha': 0.001}\n",
      "0.527023319616 {'loss': 'hinge', 'penalty': 'l2', 'alpha': 0.001}\n",
      "0.513580246914 {'loss': 'hinge', 'penalty': 'elasticnet', 'alpha': 0.001}\n",
      "0.508916323731 {'loss': 'log', 'penalty': 'l1', 'alpha': 0.0001}\n",
      "0.509190672154 {'loss': 'log', 'penalty': 'l2', 'alpha': 0.0001}\n",
      "0.527023319616 {'loss': 'log', 'penalty': 'elasticnet', 'alpha': 0.0001}\n",
      "0.504526748971 {'loss': 'hinge', 'penalty': 'l1', 'alpha': 0.0001}\n",
      "0.490809327846 {'loss': 'hinge', 'penalty': 'l2', 'alpha': 0.0001}\n",
      "0.491083676269 {'loss': 'hinge', 'penalty': 'elasticnet', 'alpha': 0.0001}\n",
      "0.508916323731 {'loss': 'log', 'penalty': 'l1', 'alpha': 1e-05}\n",
      "0.508916323731 {'loss': 'log', 'penalty': 'l2', 'alpha': 1e-05}\n",
      "0.491083676269 {'loss': 'log', 'penalty': 'elasticnet', 'alpha': 1e-05}\n",
      "0.470507544582 {'loss': 'hinge', 'penalty': 'l1', 'alpha': 1e-05}\n",
      "0.490809327846 {'loss': 'hinge', 'penalty': 'l2', 'alpha': 1e-05}\n",
      "0.545130315501 {'loss': 'hinge', 'penalty': 'elasticnet', 'alpha': 1e-05}\n",
      "0.491083676269 {'loss': 'log', 'penalty': 'l1', 'alpha': 1e-06}\n",
      "0.491083676269 {'loss': 'log', 'penalty': 'l2', 'alpha': 1e-06}\n",
      "0.472976680384 {'loss': 'log', 'penalty': 'elasticnet', 'alpha': 1e-06}\n",
      "0.545130315501 {'loss': 'hinge', 'penalty': 'l1', 'alpha': 1e-06}\n",
      "0.545130315501 {'loss': 'hinge', 'penalty': 'l2', 'alpha': 1e-06}\n",
      "0.491083676269 {'loss': 'hinge', 'penalty': 'elasticnet', 'alpha': 1e-06}\n"
     ]
    }
   ],
   "source": [
    "# let's look at eaulation scores\n",
    "cvres = grid_search.cv_results_\n",
    "for mean_score, params in zip(cvres[\"mean_test_score\"], cvres[\"params\"]):\n",
    "    print(mean_score, params)"
   ]
  },
  {
   "cell_type": "code",
   "execution_count": 123,
   "metadata": {},
   "outputs": [
    {
     "data": {
      "text/plain": [
       "SGDClassifier(alpha=1e-05, average=False, class_weight=None, epsilon=0.1,\n",
       "       eta0=0.0, fit_intercept=True, l1_ratio=0.15,\n",
       "       learning_rate='optimal', loss='hinge', n_iter=5, n_jobs=1,\n",
       "       penalty='elasticnet', power_t=0.5, random_state=None, shuffle=True,\n",
       "       verbose=0, warm_start=False)"
      ]
     },
     "execution_count": 123,
     "metadata": {},
     "output_type": "execute_result"
    }
   ],
   "source": [
    "grid_search.best_estimator_"
   ]
  },
  {
   "cell_type": "code",
   "execution_count": 124,
   "metadata": {
    "collapsed": true
   },
   "outputs": [],
   "source": [
    "from sklearn.model_selection import cross_val_predict\n",
    "\n",
    "y_train_pred = cross_val_predict(grid_search.best_estimator_, shuffled_X_train, shuffled_y_train, cv=3)"
   ]
  },
  {
   "cell_type": "code",
   "execution_count": 130,
   "metadata": {},
   "outputs": [
    {
     "data": {
      "text/plain": [
       "array([[ 662, 1325],\n",
       "       [ 553, 1105]])"
      ]
     },
     "execution_count": 130,
     "metadata": {},
     "output_type": "execute_result"
    }
   ],
   "source": [
    "from sklearn.metrics import confusion_matrix\n",
    "confusion_matrix(shuffled_y_train, y_train_pred)"
   ]
  },
  {
   "cell_type": "code",
   "execution_count": null,
   "metadata": {
    "collapsed": true
   },
   "outputs": [],
   "source": []
  }
 ],
 "metadata": {
  "kernelspec": {
   "display_name": "Python 3",
   "language": "python",
   "name": "python3"
  },
  "language_info": {
   "codemirror_mode": {
    "name": "ipython",
    "version": 3
   },
   "file_extension": ".py",
   "mimetype": "text/x-python",
   "name": "python",
   "nbconvert_exporter": "python",
   "pygments_lexer": "ipython3",
   "version": "3.5.1"
  }
 },
 "nbformat": 4,
 "nbformat_minor": 2
}
